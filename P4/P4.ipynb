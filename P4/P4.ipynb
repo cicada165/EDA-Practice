{
 "cells": [
  {
   "cell_type": "code",
   "execution_count": 1,
   "metadata": {},
   "outputs": [],
   "source": [
    "# DSW Assignment 1 Problem 4\n",
    "# Name: Yue Liu\n",
    "# NetID: yl992"
   ]
  },
  {
   "cell_type": "code",
   "execution_count": 2,
   "metadata": {},
   "outputs": [],
   "source": [
    "import pandas as pd\n",
    "import numpy as np\n",
    "import matplotlib.pyplot as plt"
   ]
  },
  {
   "cell_type": "code",
   "execution_count": 3,
   "metadata": {},
   "outputs": [],
   "source": [
    "data = pd.read_csv('./weather.csv')"
   ]
  },
  {
   "cell_type": "code",
   "execution_count": null,
   "metadata": {},
   "outputs": [],
   "source": [
    "# Part A\n"
   ]
  },
  {
   "cell_type": "code",
   "execution_count": 4,
   "metadata": {},
   "outputs": [
    {
     "name": "stdout",
     "output_type": "stream",
     "text": [
      "<bound method NDFrame.head of                      time  longitude  latitude      Ktemp\n",
      "0      1950-01-01 9:00:00        286     40.75  274.39734\n",
      "1      1950-01-02 9:00:00        286     40.75  277.07593\n",
      "2      1950-01-03 9:00:00        286     40.75  280.80090\n",
      "3      1950-01-04 9:00:00        286     40.75  287.14010\n",
      "4      1950-01-05 9:00:00        286     40.75  285.65262\n",
      "...                   ...        ...       ...        ...\n",
      "26293  2021-12-27 9:00:00        286     40.75  276.51580\n",
      "26294  2021-12-28 9:00:00        286     40.75  276.98850\n",
      "26295  2021-12-29 9:00:00        286     40.75  278.83975\n",
      "26296  2021-12-30 9:00:00        286     40.75  279.89480\n",
      "26297  2021-12-31 9:00:00        286     40.75  281.59335\n",
      "\n",
      "[26298 rows x 4 columns]>\n"
     ]
    }
   ],
   "source": [
    "print(data.head)"
   ]
  }
 ],
 "metadata": {
  "interpreter": {
   "hash": "b17ae75a06009ecbd62a3b606781ccbe88765547c72306b4a131e785fb430715"
  },
  "kernelspec": {
   "display_name": "Python 3.6.2 64-bit ('py36': conda)",
   "language": "python",
   "name": "python3"
  },
  "language_info": {
   "codemirror_mode": {
    "name": "ipython",
    "version": 3
   },
   "file_extension": ".py",
   "mimetype": "text/x-python",
   "name": "python",
   "nbconvert_exporter": "python",
   "pygments_lexer": "ipython3",
   "version": "3.6.2"
  },
  "orig_nbformat": 4
 },
 "nbformat": 4,
 "nbformat_minor": 2
}
